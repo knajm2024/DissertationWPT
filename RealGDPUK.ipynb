{
 "cells": [
  {
   "cell_type": "code",
   "execution_count": 10,
   "id": "91efda49-c434-4e8f-b045-707b36e06595",
   "metadata": {},
   "outputs": [],
   "source": [
    "import pandas as pd\n",
    "import numpy as np\n",
    "import matplotlib.pyplot as plt\n",
    "from scipy.stats import linregress\n",
    "df = pd.read_csv('24a46ea5.csv')"
   ]
  },
  {
   "cell_type": "code",
   "execution_count": 11,
   "id": "7923d98b-291b-4e2d-9c2d-ded3107bb2db",
   "metadata": {},
   "outputs": [
    {
     "name": "stdout",
     "output_type": "stream",
     "text": [
      "                                                                                                                                     Table 1: Summary of gross domestic product statistics for selected countries and regions, 2021\n",
      "NaN        Population³ Total GDP\\n(pounds\\nmillion)⁴ GDP per head \\n(pounds)¹ ⁴ ⁶ Annual growth\\nin \\n‘real’ GDP 2020\\n(percentage)⁵  Annual growth\\nin \\n‘real’ GDP 2021\\n(percenta...                                            \n",
      "UK         67,026,307  2,276,715                     33,745                       -11.0                                                                                             7.5                                            \n",
      "NaN        NaN         NaN                           NaN                          NaN                                                                                               NaN                                            \n",
      "England    56,536,419  1,961,238                     34,690                       -11.5                                                                                             8.9                                            \n",
      "North East 2,646,772   65,045                        24,575                       -13.3                                                                                             9.4                                            \n"
     ]
    }
   ],
   "source": [
    "print(df.head())"
   ]
  },
  {
   "cell_type": "code",
   "execution_count": 12,
   "id": "0f80169f-9f4b-4f8f-ab0e-12dbd3287ac8",
   "metadata": {},
   "outputs": [
    {
     "data": {
      "text/html": [
       "<div>\n",
       "<style scoped>\n",
       "    .dataframe tbody tr th:only-of-type {\n",
       "        vertical-align: middle;\n",
       "    }\n",
       "\n",
       "    .dataframe tbody tr th {\n",
       "        vertical-align: top;\n",
       "    }\n",
       "\n",
       "    .dataframe thead th {\n",
       "        text-align: right;\n",
       "    }\n",
       "</style>\n",
       "<table border=\"1\" class=\"dataframe\">\n",
       "  <thead>\n",
       "    <tr style=\"text-align: right;\">\n",
       "      <th></th>\n",
       "      <th>Table 1: Summary of gross domestic product statistics for selected countries and regions, 2021</th>\n",
       "    </tr>\n",
       "  </thead>\n",
       "  <tbody>\n",
       "    <tr>\n",
       "      <th>count</th>\n",
       "      <td>16</td>\n",
       "    </tr>\n",
       "    <tr>\n",
       "      <th>unique</th>\n",
       "      <td>13</td>\n",
       "    </tr>\n",
       "    <tr>\n",
       "      <th>top</th>\n",
       "      <td>7.5</td>\n",
       "    </tr>\n",
       "    <tr>\n",
       "      <th>freq</th>\n",
       "      <td>2</td>\n",
       "    </tr>\n",
       "  </tbody>\n",
       "</table>\n",
       "</div>"
      ],
      "text/plain": [
       "       Table 1: Summary of gross domestic product statistics for selected countries and regions, 2021\n",
       "count                                                  16                                            \n",
       "unique                                                 13                                            \n",
       "top                                                   7.5                                            \n",
       "freq                                                    2                                            "
      ]
     },
     "execution_count": 12,
     "metadata": {},
     "output_type": "execute_result"
    }
   ],
   "source": [
    "df.describe()"
   ]
  },
  {
   "cell_type": "code",
   "execution_count": 15,
   "id": "07e6a95d-6686-4fd8-80c7-bd22895a422c",
   "metadata": {},
   "outputs": [
    {
     "name": "stdout",
     "output_type": "stream",
     "text": [
      "Index(['Table 1: Summary of gross domestic product statistics for selected countries and regions, 2021'], dtype='object')\n"
     ]
    }
   ],
   "source": [
    "print(df.columns)"
   ]
  },
  {
   "cell_type": "code",
   "execution_count": 21,
   "id": "4d76d9ae-f49f-41c5-a0f3-30fe07912440",
   "metadata": {},
   "outputs": [
    {
     "name": "stdout",
     "output_type": "stream",
     "text": [
      "   Unnamed: 0 Population³ Total GDP\\n(pounds\\nmillion)⁴  \\\n",
      "0          UK  67,026,307                     2,276,715   \n",
      "1         NaN         NaN                           NaN   \n",
      "2     England  56,536,419                     1,961,238   \n",
      "3  North East   2,646,772                        65,045   \n",
      "4  North West   7,422,294                       220,304   \n",
      "\n",
      "  GDP per head \\n(pounds)¹ ⁴ ⁶  \\\n",
      "0                       33,745   \n",
      "1                          NaN   \n",
      "2                       34,690   \n",
      "3                       24,575   \n",
      "4                       29,681   \n",
      "\n",
      "   Annual growth\\nin \\n‘real’ GDP 2020\\n(percentage)⁵  \\\n",
      "0                                              -11.0    \n",
      "1                                                NaN    \n",
      "2                                              -11.5    \n",
      "3                                              -13.3    \n",
      "4                                              -12.0    \n",
      "\n",
      "   Annual growth\\nin \\n‘real’ GDP 2021\\n(percentage)⁵  \n",
      "0                                                7.5   \n",
      "1                                                NaN   \n",
      "2                                                8.9   \n",
      "3                                                9.4   \n",
      "4                                                9.9   \n"
     ]
    }
   ],
   "source": [
    "delimiter = ','  \n",
    "\n",
    "\n",
    "df = pd.read_csv('24a46ea5.csv', delimiter=delimiter, skiprows=1)\n",
    "\n",
    "\n",
    "print(df.head())\n",
    "\n",
    "\n",
    "if len(df.columns) == 6:  \n",
    "    df.columns = ['Region', 'Population', 'Total_GDP_Million', 'GDP_Per_Head', 'Annual_Growth_Real_GDP_2020', 'Annual_Growth_Real_GDP_2021']\n",
    "else:\n",
    "    print(f\"Expected 6 columns, but found {len(df.columns)}\")\n"
   ]
  },
  {
   "cell_type": "code",
   "execution_count": 24,
   "id": "572c5811-a855-4f69-85b3-e3d258a78774",
   "metadata": {},
   "outputs": [
    {
     "name": "stdout",
     "output_type": "stream",
     "text": [
      "Region                                     object\n",
      "Population                                float64\n",
      "Total_GDP_Million_Pounds                  float64\n",
      "GDP_Per_Head_Pounds                       float64\n",
      "Annual_Growth_Real_GDP_2020_Percentage    float64\n",
      "Annual_Growth_Real_GDP_2021_Percentage    float64\n",
      "dtype: object\n",
      "                      Region  Population  Total_GDP_Million_Pounds  \\\n",
      "2                    England  56536419.0                 1961238.0   \n",
      "3                 North East   2646772.0                   65045.0   \n",
      "4                 North West   7422294.0                  220304.0   \n",
      "5  Yorkshire and\\nThe Humber   5481431.0                  151794.0   \n",
      "6              East Midlands   4880094.0                  134228.0   \n",
      "\n",
      "   GDP_Per_Head_Pounds  Annual_Growth_Real_GDP_2020_Percentage  \\\n",
      "2              34690.0                                   -11.5   \n",
      "3              24575.0                                   -13.3   \n",
      "4              29681.0                                   -12.0   \n",
      "5              27692.0                                   -11.6   \n",
      "6              27505.0                                   -10.6   \n",
      "\n",
      "   Annual_Growth_Real_GDP_2021_Percentage  \n",
      "2                                     8.9  \n",
      "3                                     9.4  \n",
      "4                                     9.9  \n",
      "5                                     9.8  \n",
      "6                                     9.4  \n"
     ]
    }
   ],
   "source": [
    "\n",
    "df['Population'] = pd.to_numeric(df['Population'].str.replace(',', ''), errors='coerce')\n",
    "df['Total_GDP_Million_Pounds'] = pd.to_numeric(df['Total_GDP_Million_Pounds'].str.replace('£', '').str.replace(',', ''), errors='coerce')\n",
    "df['GDP_Per_Head_Pounds'] = pd.to_numeric(df['GDP_Per_Head_Pounds'].str.replace('£', '').str.replace(',', ''), errors='coerce')\n",
    "\n",
    "\n",
    "df['Annual_Growth_Real_GDP_2020_Percentage'] = pd.to_numeric(df['Annual_Growth_Real_GDP_2020_Percentage'], errors='coerce')\n",
    "df['Annual_Growth_Real_GDP_2021_Percentage'] = pd.to_numeric(df['Annual_Growth_Real_GDP_2021_Percentage'], errors='coerce')\n",
    "\n",
    "\n",
    "df.dropna(inplace=True) \n",
    "\n",
    "\n",
    "print(df.dtypes)\n",
    "print(df.head())\n",
    "\n"
   ]
  },
  {
   "cell_type": "code",
   "execution_count": 25,
   "id": "f52deb43-7c12-4063-aa8e-133bb88e8aa7",
   "metadata": {},
   "outputs": [
    {
     "data": {
      "text/html": [
       "<div>\n",
       "<style scoped>\n",
       "    .dataframe tbody tr th:only-of-type {\n",
       "        vertical-align: middle;\n",
       "    }\n",
       "\n",
       "    .dataframe tbody tr th {\n",
       "        vertical-align: top;\n",
       "    }\n",
       "\n",
       "    .dataframe thead th {\n",
       "        text-align: right;\n",
       "    }\n",
       "</style>\n",
       "<table border=\"1\" class=\"dataframe\">\n",
       "  <thead>\n",
       "    <tr style=\"text-align: right;\">\n",
       "      <th></th>\n",
       "      <th>Population</th>\n",
       "      <th>Total_GDP_Million_Pounds</th>\n",
       "      <th>GDP_Per_Head_Pounds</th>\n",
       "      <th>Annual_Growth_Real_GDP_2020_Percentage</th>\n",
       "      <th>Annual_Growth_Real_GDP_2021_Percentage</th>\n",
       "    </tr>\n",
       "  </thead>\n",
       "  <tbody>\n",
       "    <tr>\n",
       "      <th>count</th>\n",
       "      <td>1.300000e+01</td>\n",
       "      <td>1.300000e+01</td>\n",
       "      <td>13.000000</td>\n",
       "      <td>13.000000</td>\n",
       "      <td>13.000000</td>\n",
       "    </tr>\n",
       "    <tr>\n",
       "      <th>mean</th>\n",
       "      <td>9.504825e+06</td>\n",
       "      <td>3.248503e+05</td>\n",
       "      <td>31659.923077</td>\n",
       "      <td>-11.638462</td>\n",
       "      <td>8.907692</td>\n",
       "    </tr>\n",
       "    <tr>\n",
       "      <th>std</th>\n",
       "      <td>1.429840e+07</td>\n",
       "      <td>5.073967e+05</td>\n",
       "      <td>9083.906313</td>\n",
       "      <td>0.705382</td>\n",
       "      <td>0.731963</td>\n",
       "    </tr>\n",
       "    <tr>\n",
       "      <th>min</th>\n",
       "      <td>1.904578e+06</td>\n",
       "      <td>5.171700e+04</td>\n",
       "      <td>24575.000000</td>\n",
       "      <td>-13.300000</td>\n",
       "      <td>7.500000</td>\n",
       "    </tr>\n",
       "    <tr>\n",
       "      <th>25%</th>\n",
       "      <td>4.880094e+06</td>\n",
       "      <td>1.342280e+05</td>\n",
       "      <td>27505.000000</td>\n",
       "      <td>-11.800000</td>\n",
       "      <td>8.500000</td>\n",
       "    </tr>\n",
       "    <tr>\n",
       "      <th>50%</th>\n",
       "      <td>5.712840e+06</td>\n",
       "      <td>1.691620e+05</td>\n",
       "      <td>29628.000000</td>\n",
       "      <td>-11.500000</td>\n",
       "      <td>9.000000</td>\n",
       "    </tr>\n",
       "    <tr>\n",
       "      <th>75%</th>\n",
       "      <td>7.422294e+06</td>\n",
       "      <td>2.203040e+05</td>\n",
       "      <td>30869.000000</td>\n",
       "      <td>-11.200000</td>\n",
       "      <td>9.400000</td>\n",
       "    </tr>\n",
       "    <tr>\n",
       "      <th>max</th>\n",
       "      <td>5.653642e+07</td>\n",
       "      <td>1.961238e+06</td>\n",
       "      <td>59855.000000</td>\n",
       "      <td>-10.600000</td>\n",
       "      <td>9.900000</td>\n",
       "    </tr>\n",
       "  </tbody>\n",
       "</table>\n",
       "</div>"
      ],
      "text/plain": [
       "         Population  Total_GDP_Million_Pounds  GDP_Per_Head_Pounds  \\\n",
       "count  1.300000e+01              1.300000e+01            13.000000   \n",
       "mean   9.504825e+06              3.248503e+05         31659.923077   \n",
       "std    1.429840e+07              5.073967e+05          9083.906313   \n",
       "min    1.904578e+06              5.171700e+04         24575.000000   \n",
       "25%    4.880094e+06              1.342280e+05         27505.000000   \n",
       "50%    5.712840e+06              1.691620e+05         29628.000000   \n",
       "75%    7.422294e+06              2.203040e+05         30869.000000   \n",
       "max    5.653642e+07              1.961238e+06         59855.000000   \n",
       "\n",
       "       Annual_Growth_Real_GDP_2020_Percentage  \\\n",
       "count                               13.000000   \n",
       "mean                               -11.638462   \n",
       "std                                  0.705382   \n",
       "min                                -13.300000   \n",
       "25%                                -11.800000   \n",
       "50%                                -11.500000   \n",
       "75%                                -11.200000   \n",
       "max                                -10.600000   \n",
       "\n",
       "       Annual_Growth_Real_GDP_2021_Percentage  \n",
       "count                               13.000000  \n",
       "mean                                 8.907692  \n",
       "std                                  0.731963  \n",
       "min                                  7.500000  \n",
       "25%                                  8.500000  \n",
       "50%                                  9.000000  \n",
       "75%                                  9.400000  \n",
       "max                                  9.900000  "
      ]
     },
     "execution_count": 25,
     "metadata": {},
     "output_type": "execute_result"
    }
   ],
   "source": [
    "df.describe()"
   ]
  },
  {
   "cell_type": "code",
   "execution_count": 26,
   "id": "f758e499-d47f-404b-a73c-90b75ad47650",
   "metadata": {},
   "outputs": [
    {
     "data": {
      "image/png": "[encoded data removed]",
      "text/plain": [
       "<Figure size 640x480 with 1 Axes>"
      ]
     },
     "metadata": {},
     "output_type": "display_data"
    }
   ],
   "source": [
    "df.plot(kind='bar', x='Region', y='GDP_Per_Head_Pounds', title='GDP Per Head by Region')\n",
    "plt.show()"
   ]
  },
  {
   "cell_type": "code",
   "execution_count": 27,
   "id": "8791d7de-1b7a-4438-aa8f-8da378db362f",
   "metadata": {},
   "outputs": [
    {
     "data": {
      "image/png": "[encoded data removed]",
      "text/plain": [
       "<Figure size 640x480 with 1 Axes>"
      ]
     },
     "metadata": {},
     "output_type": "display_data"
    }
   ],
   "source": [
    "df.plot(kind='line', x='Region', y=['Annual_Growth_Real_GDP_2020_Percentage', 'Annual_Growth_Real_GDP_2021_Percentage'], title='Annual GDP Growth')\n",
    "plt.show()"
   ]
  },
  {
   "cell_type": "code",
   "execution_count": 28,
   "id": "ce204a4d-1ece-46c5-be77-481b34b81ebf",
   "metadata": {},
   "outputs": [
    {
     "name": "stderr",
     "output_type": "stream",
     "text": [
      "/tmp/ipykernel_72/1134722465.py:1: FutureWarning: The default value of numeric_only in DataFrame.corr is deprecated. In a future version, it will default to False. Select only valid columns or specify the value of numeric_only to silence this warning.\n",
      "  df.corr()\n"
     ]
    },
    {
     "data": {
      "text/html": [
       "<div>\n",
       "<style scoped>\n",
       "    .dataframe tbody tr th:only-of-type {\n",
       "        vertical-align: middle;\n",
       "    }\n",
       "\n",
       "    .dataframe tbody tr th {\n",
       "        vertical-align: top;\n",
       "    }\n",
       "\n",
       "    .dataframe thead th {\n",
       "        text-align: right;\n",
       "    }\n",
       "</style>\n",
       "<table border=\"1\" class=\"dataframe\">\n",
       "  <thead>\n",
       "    <tr style=\"text-align: right;\">\n",
       "      <th></th>\n",
       "      <th>Population</th>\n",
       "      <th>Total_GDP_Million_Pounds</th>\n",
       "      <th>GDP_Per_Head_Pounds</th>\n",
       "      <th>Annual_Growth_Real_GDP_2020_Percentage</th>\n",
       "      <th>Annual_Growth_Real_GDP_2021_Percentage</th>\n",
       "    </tr>\n",
       "  </thead>\n",
       "  <tbody>\n",
       "    <tr>\n",
       "      <th>Population</th>\n",
       "      <td>1.000000</td>\n",
       "      <td>0.990583</td>\n",
       "      <td>0.199576</td>\n",
       "      <td>0.097333</td>\n",
       "      <td>-0.039147</td>\n",
       "    </tr>\n",
       "    <tr>\n",
       "      <th>Total_GDP_Million_Pounds</th>\n",
       "      <td>0.990583</td>\n",
       "      <td>1.000000</td>\n",
       "      <td>0.328417</td>\n",
       "      <td>0.125727</td>\n",
       "      <td>-0.071396</td>\n",
       "    </tr>\n",
       "    <tr>\n",
       "      <th>GDP_Per_Head_Pounds</th>\n",
       "      <td>0.199576</td>\n",
       "      <td>0.328417</td>\n",
       "      <td>1.000000</td>\n",
       "      <td>0.269819</td>\n",
       "      <td>-0.282998</td>\n",
       "    </tr>\n",
       "    <tr>\n",
       "      <th>Annual_Growth_Real_GDP_2020_Percentage</th>\n",
       "      <td>0.097333</td>\n",
       "      <td>0.125727</td>\n",
       "      <td>0.269819</td>\n",
       "      <td>1.000000</td>\n",
       "      <td>-0.317339</td>\n",
       "    </tr>\n",
       "    <tr>\n",
       "      <th>Annual_Growth_Real_GDP_2021_Percentage</th>\n",
       "      <td>-0.039147</td>\n",
       "      <td>-0.071396</td>\n",
       "      <td>-0.282998</td>\n",
       "      <td>-0.317339</td>\n",
       "      <td>1.000000</td>\n",
       "    </tr>\n",
       "  </tbody>\n",
       "</table>\n",
       "</div>"
      ],
      "text/plain": [
       "                                        Population  Total_GDP_Million_Pounds  \\\n",
       "Population                                1.000000                  0.990583   \n",
       "Total_GDP_Million_Pounds                  0.990583                  1.000000   \n",
       "GDP_Per_Head_Pounds                       0.199576                  0.328417   \n",
       "Annual_Growth_Real_GDP_2020_Percentage    0.097333                  0.125727   \n",
       "Annual_Growth_Real_GDP_2021_Percentage   -0.039147                 -0.071396   \n",
       "\n",
       "                                        GDP_Per_Head_Pounds  \\\n",
       "Population                                         0.199576   \n",
       "Total_GDP_Million_Pounds                           0.328417   \n",
       "GDP_Per_Head_Pounds                                1.000000   \n",
       "Annual_Growth_Real_GDP_2020_Percentage             0.269819   \n",
       "Annual_Growth_Real_GDP_2021_Percentage            -0.282998   \n",
       "\n",
       "                                        Annual_Growth_Real_GDP_2020_Percentage  \\\n",
       "Population                                                            0.097333   \n",
       "Total_GDP_Million_Pounds                                              0.125727   \n",
       "GDP_Per_Head_Pounds                                                   0.269819   \n",
       "Annual_Growth_Real_GDP_2020_Percentage                                1.000000   \n",
       "Annual_Growth_Real_GDP_2021_Percentage                               -0.317339   \n",
       "\n",
       "                                        Annual_Growth_Real_GDP_2021_Percentage  \n",
       "Population                                                           -0.039147  \n",
       "Total_GDP_Million_Pounds                                             -0.071396  \n",
       "GDP_Per_Head_Pounds                                                  -0.282998  \n",
       "Annual_Growth_Real_GDP_2020_Percentage                               -0.317339  \n",
       "Annual_Growth_Real_GDP_2021_Percentage                                1.000000  "
      ]
     },
     "execution_count": 28,
     "metadata": {},
     "output_type": "execute_result"
    }
   ],
   "source": [
    "df.corr()"
   ]
  },
  {
   "cell_type": "code",
   "execution_count": null,
   "id": "bd710a8a-abf9-4616-b457-f75c939e4536",
   "metadata": {},
   "outputs": [],
   "source": []
  }
 ],
 "metadata": {
  "ai8-sym": {
   "notebook_id": "9532b904-ae2c-484e-8684-b8114162ccf2"
  },
  "kernelspec": {
   "display_name": "Python 3 (ipykernel)",
   "language": "python",
   "name": "python3"
  },
  "language_info": {
   "codemirror_mode": {
    "name": "ipython",
    "version": 3
   },
   "file_extension": ".py",
   "mimetype": "text/x-python",
   "name": "python",
   "nbconvert_exporter": "python",
   "pygments_lexer": "ipython3",
   "version": "3.11.6"
  }
 },
 "nbformat": 4,
 "nbformat_minor": 5
}
